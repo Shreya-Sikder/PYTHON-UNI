{
  "nbformat": 4,
  "nbformat_minor": 0,
  "metadata": {
    "colab": {
      "provenance": [],
      "authorship_tag": "ABX9TyP2H8/N9c25jeQMDwlFFPnC",
      "include_colab_link": true
    },
    "kernelspec": {
      "name": "python3",
      "display_name": "Python 3"
    },
    "language_info": {
      "name": "python"
    }
  },
  "cells": [
    {
      "cell_type": "markdown",
      "metadata": {
        "id": "view-in-github",
        "colab_type": "text"
      },
      "source": [
        "<a href=\"https://colab.research.google.com/github/Shreya-Sikder/PYTHON-UNI/blob/main/Dictionary.ipynb\" target=\"_parent\"><img src=\"https://colab.research.google.com/assets/colab-badge.svg\" alt=\"Open In Colab\"/></a>"
      ]
    },
    {
      "cell_type": "markdown",
      "source": [
        "Dictionary"
      ],
      "metadata": {
        "id": "wLwi2fSWtOTC"
      }
    },
    {
      "cell_type": "code",
      "execution_count": null,
      "metadata": {
        "id": "castUxmftKj6"
      },
      "outputs": [],
      "source": [
        "Student_info={\n",
        "    \"name\":\"fariha\",\n",
        "    \"email\":\"abcs@gmai.com\",\n",
        "    \"room\":230\n",
        "}"
      ]
    },
    {
      "cell_type": "code",
      "source": [
        "print(Student_info)"
      ],
      "metadata": {
        "colab": {
          "base_uri": "https://localhost:8080/"
        },
        "id": "lTSB01puuENx",
        "outputId": "94c7b3fd-ed95-4900-e6b4-f72bf4a36f72"
      },
      "execution_count": null,
      "outputs": [
        {
          "output_type": "stream",
          "name": "stdout",
          "text": [
            "{'name': 'fariha', 'email': 'abcs@gmai.com', 'room': 230}\n"
          ]
        }
      ]
    },
    {
      "cell_type": "code",
      "source": [
        "print(Student_info['room'])"
      ],
      "metadata": {
        "colab": {
          "base_uri": "https://localhost:8080/"
        },
        "id": "vldyPEltuP84",
        "outputId": "3ae9499f-ea0b-458b-e8b3-edb33bcc4aef"
      },
      "execution_count": null,
      "outputs": [
        {
          "output_type": "stream",
          "name": "stdout",
          "text": [
            "230\n"
          ]
        }
      ]
    },
    {
      "cell_type": "code",
      "source": [
        "for key in Student_info:\n",
        "  print(key,\":\",Student_info[key])"
      ],
      "metadata": {
        "colab": {
          "base_uri": "https://localhost:8080/"
        },
        "id": "emJ3rnb-uW6o",
        "outputId": "133f5b26-7965-4495-96c3-c59a491a11cb"
      },
      "execution_count": null,
      "outputs": [
        {
          "output_type": "stream",
          "name": "stdout",
          "text": [
            "name : fariha\n",
            "email : abcs@gmai.com\n",
            "room : 230\n"
          ]
        }
      ]
    },
    {
      "cell_type": "code",
      "source": [
        "Student_info[\"name\"]=\"fariha begum\""
      ],
      "metadata": {
        "id": "z838PmjrvH1J"
      },
      "execution_count": null,
      "outputs": []
    },
    {
      "cell_type": "code",
      "source": [
        "Student_info[\"phone\"]=\"02367781\""
      ],
      "metadata": {
        "id": "fBR8pzt-vO-Q"
      },
      "execution_count": null,
      "outputs": []
    },
    {
      "cell_type": "code",
      "source": [
        "print(Student_info['name'])\n",
        "print(Student_info['phone'])"
      ],
      "metadata": {
        "colab": {
          "base_uri": "https://localhost:8080/"
        },
        "id": "6uGfnnUXvWTJ",
        "outputId": "45259e7d-13ee-4f93-eff5-f5ccb6a33377"
      },
      "execution_count": null,
      "outputs": [
        {
          "output_type": "stream",
          "name": "stdout",
          "text": [
            "fariha begum\n",
            "02367781\n"
          ]
        }
      ]
    },
    {
      "cell_type": "code",
      "source": [
        "for key in Student_info:\n",
        "  print(key,\":\",Student_info[key])"
      ],
      "metadata": {
        "colab": {
          "base_uri": "https://localhost:8080/"
        },
        "id": "reAhCXEYvj-B",
        "outputId": "9291603a-b953-4379-8932-3df2249cd877"
      },
      "execution_count": null,
      "outputs": [
        {
          "output_type": "stream",
          "name": "stdout",
          "text": [
            "name : fariha begum\n",
            "email : abcs@gmai.com\n",
            "room : 230\n",
            "phone : 02367781\n"
          ]
        }
      ]
    },
    {
      "cell_type": "markdown",
      "source": [
        "q.write a code that counts the frequency of each letter in a sentence\n",
        " sentence=\"I STUDY IN UIU\""
      ],
      "metadata": {
        "id": "7amKNjOGvz_4"
      }
    },
    {
      "cell_type": "markdown",
      "source": [
        "Practice Problem"
      ],
      "metadata": {
        "id": "-ZTJRLWNvu0p"
      }
    },
    {
      "cell_type": "code",
      "source": [
        "sentence=\"I STUDY IN UIU\"\n",
        "freq={}\n",
        "for char in sentence:\n",
        "  if char not in freq:\n",
        "    freq[char]=1\n",
        "  else:\n",
        "    freq[char]+=1\n",
        "\n",
        "print(freq)"
      ],
      "metadata": {
        "colab": {
          "base_uri": "https://localhost:8080/"
        },
        "id": "dvisH0RRvq5p",
        "outputId": "c9077e0b-9cd6-4a55-aa80-cc2f27a1187e"
      },
      "execution_count": null,
      "outputs": [
        {
          "output_type": "stream",
          "name": "stdout",
          "text": [
            "{'I': 3, ' ': 3, 'S': 1, 'T': 1, 'U': 3, 'D': 1, 'Y': 1, 'N': 1}\n"
          ]
        }
      ]
    },
    {
      "cell_type": "markdown",
      "source": [
        "neglect space and case sensetive"
      ],
      "metadata": {
        "id": "zuFXWr8-yQoi"
      }
    },
    {
      "cell_type": "code",
      "source": [
        "sentence=\"I STUDY IN UIU\"\n",
        "freq={}\n",
        "for char in sentence:\n",
        "  if char == \" \":\n",
        "   continue;\n",
        "  char=char.lower()\n",
        "  if char not in freq:\n",
        "    freq[char]=1\n",
        "  else:\n",
        "    freq[char]+=1\n",
        "\n",
        "print(freq)"
      ],
      "metadata": {
        "colab": {
          "base_uri": "https://localhost:8080/"
        },
        "id": "97ZhzMnbx5ip",
        "outputId": "6948bf6d-2ebf-4c3d-c619-e9f5ca2e1cd0"
      },
      "execution_count": null,
      "outputs": [
        {
          "output_type": "stream",
          "name": "stdout",
          "text": [
            "{'i': 3, 's': 1, 't': 1, 'u': 3, 'd': 1, 'y': 1, 'n': 1}\n"
          ]
        }
      ]
    }
  ]
}