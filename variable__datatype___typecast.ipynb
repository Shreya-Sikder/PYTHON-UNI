{
  "nbformat": 4,
  "nbformat_minor": 0,
  "metadata": {
    "colab": {
      "provenance": [],
      "authorship_tag": "ABX9TyO8zRkTxWDotBRxW9L96YlH",
      "include_colab_link": true
    },
    "kernelspec": {
      "name": "python3",
      "display_name": "Python 3"
    },
    "language_info": {
      "name": "python"
    }
  },
  "cells": [
    {
      "cell_type": "markdown",
      "metadata": {
        "id": "view-in-github",
        "colab_type": "text"
      },
      "source": [
        "<a href=\"https://colab.research.google.com/github/Shreya-Sikder/PYTHON-UNI/blob/main/variable__datatype___typecast.ipynb\" target=\"_parent\"><img src=\"https://colab.research.google.com/assets/colab-badge.svg\" alt=\"Open In Colab\"/></a>"
      ]
    },
    {
      "cell_type": "markdown",
      "source": [
        "BASICS OF PYTHON\n",
        "\n",
        "\n"
      ],
      "metadata": {
        "id": "rfsyF4AUq51d"
      }
    },
    {
      "cell_type": "markdown",
      "source": [
        "Variable,Datatype & Typecast\n",
        "  "
      ],
      "metadata": {
        "id": "N4BsJLburI_f"
      }
    },
    {
      "cell_type": "markdown",
      "source": [
        "Typecast\n"
      ],
      "metadata": {
        "id": "ZG6u8b9uEJbw"
      }
    },
    {
      "cell_type": "code",
      "source": [
        "\n",
        "a=\"123\"\n",
        "print(a, type(a))\n",
        "a=int(a)\n",
        "print(type(a))"
      ],
      "metadata": {
        "colab": {
          "base_uri": "https://localhost:8080/"
        },
        "id": "ZzzVFMcb2SNR",
        "outputId": "1174b180-225b-4e0c-cf5f-9d52a778235d"
      },
      "execution_count": null,
      "outputs": [
        {
          "output_type": "stream",
          "name": "stdout",
          "text": [
            "123 <class 'str'>\n",
            "<class 'int'>\n"
          ]
        }
      ]
    },
    {
      "cell_type": "markdown",
      "source": [
        "Datatype"
      ],
      "metadata": {
        "id": "n0lMaHgoFI6x"
      }
    },
    {
      "cell_type": "code",
      "source": [
        "a=\"shreya\"\n",
        "b=\"2003\"\n",
        "print(a+b)"
      ],
      "metadata": {
        "colab": {
          "base_uri": "https://localhost:8080/"
        },
        "id": "ctGxd84gtD_j",
        "outputId": "55ee5c9c-c0c8-4581-b2bd-367c64607f6b"
      },
      "execution_count": null,
      "outputs": [
        {
          "output_type": "stream",
          "name": "stdout",
          "text": [
            "shreya2003\n"
          ]
        }
      ]
    },
    {
      "cell_type": "code",
      "source": [
        "a=str(100)\n",
        "print(a+a)\n"
      ],
      "metadata": {
        "colab": {
          "base_uri": "https://localhost:8080/"
        },
        "id": "-foZFYQJs6BA",
        "outputId": "dbb28729-8d91-4d54-c93a-38c4f1894d1d"
      },
      "execution_count": null,
      "outputs": [
        {
          "output_type": "stream",
          "name": "stdout",
          "text": [
            "100100\n"
          ]
        }
      ]
    },
    {
      "cell_type": "code",
      "source": [
        "s=\"shreya\"\n",
        "print(s, type(s))"
      ],
      "metadata": {
        "colab": {
          "base_uri": "https://localhost:8080/"
        },
        "id": "XLoBX0vesl7D",
        "outputId": "84ccc9ee-ea07-492c-ad2a-7d0c7731225e"
      },
      "execution_count": null,
      "outputs": [
        {
          "output_type": "stream",
          "name": "stdout",
          "text": [
            "shreya <class 'str'>\n"
          ]
        }
      ]
    },
    {
      "cell_type": "code",
      "source": [
        "a=12\n",
        "print(type(a))"
      ],
      "metadata": {
        "colab": {
          "base_uri": "https://localhost:8080/"
        },
        "id": "UK6dg054rzqH",
        "outputId": "4131d3f2-d0a7-4755-9a31-f8902ec5e979"
      },
      "execution_count": null,
      "outputs": [
        {
          "output_type": "stream",
          "name": "stdout",
          "text": [
            "<class 'int'>\n"
          ]
        }
      ]
    },
    {
      "cell_type": "code",
      "source": [
        "print(\"Hello World\")\n",
        "\n"
      ],
      "metadata": {
        "colab": {
          "base_uri": "https://localhost:8080/"
        },
        "id": "Kww3_xazrjxe",
        "outputId": "dc09e1d0-622b-4939-cad6-5181225b4190"
      },
      "execution_count": null,
      "outputs": [
        {
          "output_type": "stream",
          "name": "stdout",
          "text": [
            "Hello World\n"
          ]
        }
      ]
    }
  ]
}