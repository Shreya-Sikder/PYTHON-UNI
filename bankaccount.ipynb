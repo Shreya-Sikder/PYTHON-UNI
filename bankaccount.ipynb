{
  "nbformat": 4,
  "nbformat_minor": 0,
  "metadata": {
    "colab": {
      "provenance": [],
      "authorship_tag": "ABX9TyPLDE4qIRorm2/z1hI9xKWX",
      "include_colab_link": true
    },
    "kernelspec": {
      "name": "python3",
      "display_name": "Python 3"
    },
    "language_info": {
      "name": "python"
    }
  },
  "cells": [
    {
      "cell_type": "markdown",
      "metadata": {
        "id": "view-in-github",
        "colab_type": "text"
      },
      "source": [
        "<a href=\"https://colab.research.google.com/github/Shreya-Sikder/PYTHON-UNI/blob/main/bankaccount.ipynb\" target=\"_parent\"><img src=\"https://colab.research.google.com/assets/colab-badge.svg\" alt=\"Open In Colab\"/></a>"
      ]
    },
    {
      "cell_type": "code",
      "execution_count": null,
      "metadata": {
        "colab": {
          "base_uri": "https://localhost:8080/"
        },
        "id": "wa0XkimWN23Z",
        "outputId": "58c13901-fb5d-40f0-acd4-5763a6746d81"
      },
      "outputs": [
        {
          "output_type": "stream",
          "name": "stdout",
          "text": [
            "Enter your bank account number: 12345\n",
            "====== BANK MENU ======\n",
            "1. Deposit Money\n",
            "2. Withdraw Money\n",
            "3. Show Balance\n",
            "4. Exit\n",
            "Enter your choice (1-4): 3\n",
            "Account Number: 12345\n",
            "Current Balance: 50000\n",
            "====== BANK MENU ======\n",
            "1. Deposit Money\n",
            "2. Withdraw Money\n",
            "3. Show Balance\n",
            "4. Exit\n",
            "Enter your choice (1-4): 1\n",
            "Enter amount to deposit: 1\n",
            "====== BANK MENU ======\n",
            "1. Deposit Money\n",
            "2. Withdraw Money\n",
            "3. Show Balance\n",
            "4. Exit\n",
            "Enter your choice (1-4): 3\n",
            "Account Number: 12345\n",
            "Current Balance: 50001.0\n",
            "====== BANK MENU ======\n",
            "1. Deposit Money\n",
            "2. Withdraw Money\n",
            "3. Show Balance\n",
            "4. Exit\n"
          ]
        }
      ],
      "source": [
        "class bankAccount:\n",
        "    def __init__(self,accountNumber,balance=0):\n",
        "        self.accountNumber=accountNumber\n",
        "        self.balance=balance\n",
        "    def deposit(self,amount):\n",
        "        if amount>0:\n",
        "            self.balance+=amount\n",
        "        else:\n",
        "            print(\"Negetive funds is not applicable\")\n",
        "    def withdraw(self,amount):\n",
        "        if amount<0:\n",
        "            print(\"Negetive funds is not applicable\")\n",
        "        elif amount>self.balance:\n",
        "            print(\"Insufficient amount\")\n",
        "        else:\n",
        "            self.balance-=amount\n",
        "            print(f\"Succefully withdraw {amount}\")\n",
        "    def show(self):\n",
        "        print(f\"Account Number: {self.accountNumber}\")\n",
        "        print(f\"Current Balance: {self.balance}\")\n",
        "acctNum=input(\"Enter your bank account number: \")\n",
        "account1=bankAccount(acctNum,50000)\n",
        "while True:\n",
        "    print(\"====== BANK MENU ======\")\n",
        "    print(\"1. Deposit Money\")\n",
        "    print(\"2. Withdraw Money\")\n",
        "    print(\"3. Show Balance\")\n",
        "    print(\"4. Exit\")\n",
        "    choice = input(\"Enter your choice (1-4): \")\n",
        "\n",
        "    if choice == \"1\":\n",
        "        amount = float(input(\"Enter amount to deposit: \"))\n",
        "        account1.deposit(amount)\n",
        "    elif choice == \"2\":\n",
        "        amount = float(input(\"Enter amount to withdraw: \"))\n",
        "        account1.withdraw(amount)\n",
        "    elif choice == \"3\":\n",
        "        account1.show()\n",
        "    elif choice == \"4\":\n",
        "        print(\"🏦 Thank you for using our bank. Goodbye!\")\n",
        "        break\n",
        "    else:\n",
        "        print(\" Invalid choice! Please try again.\")"
      ]
    }
  ]
}