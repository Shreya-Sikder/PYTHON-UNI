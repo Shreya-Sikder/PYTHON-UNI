{
  "nbformat": 4,
  "nbformat_minor": 0,
  "metadata": {
    "colab": {
      "provenance": [],
      "authorship_tag": "ABX9TyMEF85iuewjrbCTQ42bv96Z",
      "include_colab_link": true
    },
    "kernelspec": {
      "name": "python3",
      "display_name": "Python 3"
    },
    "language_info": {
      "name": "python"
    }
  },
  "cells": [
    {
      "cell_type": "markdown",
      "metadata": {
        "id": "view-in-github",
        "colab_type": "text"
      },
      "source": [
        "<a href=\"https://colab.research.google.com/github/Shreya-Sikder/PYTHON-UNI/blob/main/Operator.ipynb\" target=\"_parent\"><img src=\"https://colab.research.google.com/assets/colab-badge.svg\" alt=\"Open In Colab\"/></a>"
      ]
    },
    {
      "cell_type": "code",
      "execution_count": null,
      "metadata": {
        "id": "BzsdTlxnPzIw",
        "colab": {
          "base_uri": "https://localhost:8080/"
        },
        "outputId": "992a4d02-0cfe-4744-d087-52cc1a23859e"
      },
      "outputs": [
        {
          "output_type": "stream",
          "name": "stdout",
          "text": [
            "Enter your value:4\n",
            "1 < a <= 10\n",
            "a is greater than or equal to 1\n",
            "a is not 2\n",
            "4\n"
          ]
        }
      ],
      "source": [
        "a=int(input(\"Enter your value:\"))\n",
        "if a > 1 and a <= 10: # yes\n",
        "    print('1 < a <= 10')\n",
        "if a == 2 or a >= 1: # yes\n",
        "    print('a is greater than or equal to 1')\n",
        "if a == 2: # yes\n",
        "    print('a is 2')\n",
        "if a != 2: # no\n",
        "    print('a is not 2')\n",
        "\n",
        "if a == 2:\n",
        "    print('a is 2')\n",
        "if a != 4:\n",
        "    print('a is not 4')\n",
        "print(a)"
      ]
    }
  ]
}