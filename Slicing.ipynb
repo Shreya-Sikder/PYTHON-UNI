{
  "nbformat": 4,
  "nbformat_minor": 0,
  "metadata": {
    "colab": {
      "provenance": [],
      "authorship_tag": "ABX9TyOdFMiUdu9V76b9NGSagWs6",
      "include_colab_link": true
    },
    "kernelspec": {
      "name": "python3",
      "display_name": "Python 3"
    },
    "language_info": {
      "name": "python"
    }
  },
  "cells": [
    {
      "cell_type": "markdown",
      "metadata": {
        "id": "view-in-github",
        "colab_type": "text"
      },
      "source": [
        "<a href=\"https://colab.research.google.com/github/Shreya-Sikder/PYTHON-UNI/blob/main/Slicing.ipynb\" target=\"_parent\"><img src=\"https://colab.research.google.com/assets/colab-badge.svg\" alt=\"Open In Colab\"/></a>"
      ]
    },
    {
      "cell_type": "markdown",
      "source": [
        "![x.PNG](data:image/png;base64,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)"
      ],
      "metadata": {
        "id": "SX1NU86ZkATe"
      }
    },
    {
      "cell_type": "code",
      "execution_count": null,
      "metadata": {
        "colab": {
          "base_uri": "https://localhost:8080/"
        },
        "id": "pl_FMqKnhniB",
        "outputId": "3009e100-5c5e-4610-dfd7-de1d783ef16e"
      },
      "outputs": [
        {
          "output_type": "stream",
          "name": "stdout",
          "text": [
            "lla_S\n"
          ]
        }
      ],
      "source": [
        "#Format: [start,stop, step]\n",
        "string1=\"Umbrella#Summer\"\n",
        "substr1=string1[5:10]\n",
        "print(substr1) #starts from 5th index, ends 1step before 10th index"
      ]
    },
    {
      "cell_type": "code",
      "source": [
        "string1=\"Umbrella#Summer\"\n",
        "substr=string1[:10] #starts from 0th index, ends 1step before 10th\n",
        "print(substr)"
      ],
      "metadata": {
        "colab": {
          "base_uri": "https://localhost:8080/"
        },
        "id": "6v_PL0EXjMHM",
        "outputId": "bb4bc22c-8a43-4f57-9e9d-27ca873581e5"
      },
      "execution_count": null,
      "outputs": [
        {
          "output_type": "stream",
          "name": "stdout",
          "text": [
            "Umbrella_S\n"
          ]
        }
      ]
    },
    {
      "cell_type": "code",
      "source": [
        "string1=\"Umbrella#Summer\"\n",
        "substr=string1[4:] # 4th index to last\n",
        "print(substr)"
      ],
      "metadata": {
        "colab": {
          "base_uri": "https://localhost:8080/"
        },
        "id": "SFM4zibfjcon",
        "outputId": "6240fa64-bb31-4591-cec6-0f72ba73a6fa"
      },
      "execution_count": null,
      "outputs": [
        {
          "output_type": "stream",
          "name": "stdout",
          "text": [
            "ella_Summer\n"
          ]
        }
      ]
    },
    {
      "cell_type": "code",
      "source": [
        "string1=\"Umbrella#Summer\"\n",
        "substr=string1[:] # full string will be print\n",
        "print(substr)"
      ],
      "metadata": {
        "colab": {
          "base_uri": "https://localhost:8080/"
        },
        "id": "qEwn_rmqjvR-",
        "outputId": "0d89c7a7-023f-4766-fad6-76c13d8b3083"
      },
      "execution_count": null,
      "outputs": [
        {
          "output_type": "stream",
          "name": "stdout",
          "text": [
            "Umbrella_Summer\n"
          ]
        }
      ]
    },
    {
      "cell_type": "code",
      "source": [
        "string1=\"Umbrella#Summer\"\n",
        "substr=string1[-8:-3] #start from -8 and end 1step before -3\n",
        "print(substr)"
      ],
      "metadata": {
        "colab": {
          "base_uri": "https://localhost:8080/"
        },
        "id": "HjHrXCdpnk1E",
        "outputId": "c70bae44-5477-4cdf-b748-3bae8f2a6aa9"
      },
      "execution_count": null,
      "outputs": [
        {
          "output_type": "stream",
          "name": "stdout",
          "text": [
            "a#Sum\n"
          ]
        }
      ]
    },
    {
      "cell_type": "code",
      "source": [
        "string1=\"Umbrella#Summer\"\n",
        "substr=string1[::2] #jump\n",
        "print(substr)"
      ],
      "metadata": {
        "colab": {
          "base_uri": "https://localhost:8080/"
        },
        "id": "zDDerxIwn1uI",
        "outputId": "304fdc8f-e5d5-47a6-af6f-adc93c679fae"
      },
      "execution_count": null,
      "outputs": [
        {
          "output_type": "stream",
          "name": "stdout",
          "text": [
            "Ubel#umr\n"
          ]
        }
      ]
    },
    {
      "cell_type": "code",
      "source": [
        "string1=\"Umbrella#Summer\"\n",
        "substr=string1[::-1] #reverse  print\n",
        "print(substr)"
      ],
      "metadata": {
        "colab": {
          "base_uri": "https://localhost:8080/"
        },
        "id": "9pCcYOYRoFMI",
        "outputId": "a6669cfa-8d9e-4e77-d9b8-d65f30c2984a"
      },
      "execution_count": null,
      "outputs": [
        {
          "output_type": "stream",
          "name": "stdout",
          "text": [
            "remmuS#allerbmU\n"
          ]
        }
      ]
    },
    {
      "cell_type": "code",
      "source": [
        "string1=\"Umbrella#Summer\"\n",
        "substr=string1[5:12].upper()\n",
        "print(substr)"
      ],
      "metadata": {
        "colab": {
          "base_uri": "https://localhost:8080/"
        },
        "id": "hKfrM_SIoZE1",
        "outputId": "cc05bdd7-0868-4335-eb31-8086b41c7ac3"
      },
      "execution_count": null,
      "outputs": [
        {
          "output_type": "stream",
          "name": "stdout",
          "text": [
            "LLA#SUM\n"
          ]
        }
      ]
    }
  ]
}