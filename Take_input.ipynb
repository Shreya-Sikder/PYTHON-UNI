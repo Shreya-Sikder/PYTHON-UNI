{
  "nbformat": 4,
  "nbformat_minor": 0,
  "metadata": {
    "colab": {
      "provenance": [],
      "authorship_tag": "ABX9TyO7DiheH5RyoOWD1ekcnF47",
      "include_colab_link": true
    },
    "kernelspec": {
      "name": "python3",
      "display_name": "Python 3"
    },
    "language_info": {
      "name": "python"
    }
  },
  "cells": [
    {
      "cell_type": "markdown",
      "metadata": {
        "id": "view-in-github",
        "colab_type": "text"
      },
      "source": [
        "<a href=\"https://colab.research.google.com/github/Shreya-Sikder/PYTHON-UNI/blob/main/Take_input.ipynb\" target=\"_parent\"><img src=\"https://colab.research.google.com/assets/colab-badge.svg\" alt=\"Open In Colab\"/></a>"
      ]
    },
    {
      "cell_type": "markdown",
      "source": [
        "Take input"
      ],
      "metadata": {
        "id": "5kJPXoEAFrjh"
      }
    },
    {
      "cell_type": "code",
      "source": [
        "a=int(input())\n",
        "print(a,type(a))"
      ],
      "metadata": {
        "colab": {
          "base_uri": "https://localhost:8080/"
        },
        "id": "JmN1UY9NFtoz",
        "outputId": "b2244975-74ff-4168-b06d-a0ede31d42f8"
      },
      "execution_count": null,
      "outputs": [
        {
          "output_type": "stream",
          "name": "stdout",
          "text": [
            "1200\n",
            "1200 <class 'int'>\n"
          ]
        }
      ]
    },
    {
      "cell_type": "code",
      "execution_count": null,
      "metadata": {
        "colab": {
          "base_uri": "https://localhost:8080/"
        },
        "id": "XxWIEEbDFo7J",
        "outputId": "9e90f72d-ee4c-4fde-8859-8506ff16e315"
      },
      "outputs": [
        {
          "output_type": "stream",
          "name": "stdout",
          "text": [
            "123\n",
            "123 <class 'str'>\n",
            "123 <class 'int'>\n"
          ]
        }
      ],
      "source": [
        "a=str(input())\n",
        "print(a,type(a))\n",
        "a=int(a)\n",
        "print(a,type(a))\n"
      ]
    },
    {
      "cell_type": "code",
      "source": [
        "x=input(\"Enter your name:\")\n",
        "print(x)\n",
        "print(type(x))"
      ],
      "metadata": {
        "colab": {
          "base_uri": "https://localhost:8080/"
        },
        "id": "HXJrrYGYGOj4",
        "outputId": "c77e299c-b653-4da2-ae08-d19f5876eae5"
      },
      "execution_count": null,
      "outputs": [
        {
          "output_type": "stream",
          "name": "stdout",
          "text": [
            "Enter your name:shreya\n",
            "shreya\n",
            "<class 'str'>\n"
          ]
        }
      ]
    },
    {
      "cell_type": "code",
      "source": [
        "n=float(input(\"Enter your value:\"))\n",
        "print(n, type(n))\n",
        "n=int(n**2)\n",
        "print(n, type(n))"
      ],
      "metadata": {
        "colab": {
          "base_uri": "https://localhost:8080/"
        },
        "id": "-Z2hE_2UGiKh",
        "outputId": "e2e3f60a-3f2f-4ba3-9f27-a0973d2bd527"
      },
      "execution_count": null,
      "outputs": [
        {
          "output_type": "stream",
          "name": "stdout",
          "text": [
            "Enter your value:3\n",
            "3.0 <class 'float'>\n",
            "9 <class 'int'>\n"
          ]
        }
      ]
    }
  ]
}