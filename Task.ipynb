{
  "nbformat": 4,
  "nbformat_minor": 0,
  "metadata": {
    "colab": {
      "provenance": [],
      "authorship_tag": "ABX9TyOntOy9fF82JYrO/QOTqCQo",
      "include_colab_link": true
    },
    "kernelspec": {
      "name": "python3",
      "display_name": "Python 3"
    },
    "language_info": {
      "name": "python"
    }
  },
  "cells": [
    {
      "cell_type": "markdown",
      "metadata": {
        "id": "view-in-github",
        "colab_type": "text"
      },
      "source": [
        "<a href=\"https://colab.research.google.com/github/Shreya-Sikder/PYTHON-UNI/blob/main/Task.ipynb\" target=\"_parent\"><img src=\"https://colab.research.google.com/assets/colab-badge.svg\" alt=\"Open In Colab\"/></a>"
      ]
    },
    {
      "cell_type": "markdown",
      "source": [
        "1.List Processing"
      ],
      "metadata": {
        "id": "mS__70uk3Lz0"
      }
    },
    {
      "cell_type": "code",
      "execution_count": 31,
      "metadata": {
        "colab": {
          "base_uri": "https://localhost:8080/"
        },
        "id": "JUQQRa6A2KOq",
        "outputId": "d356c33a-265e-4470-d4a7-c0c3c4d843e9"
      },
      "outputs": [
        {
          "output_type": "stream",
          "name": "stdout",
          "text": [
            "[1, 2, 3, 4, 5, 6, 7, 8, 9, 10]\n",
            "list of odd: [1, 3, 5, 7, 9]\n",
            "final list: [5, 15, 25, 35, 45]\n"
          ]
        }
      ],
      "source": [
        "num=list(range(1,11))\n",
        "print(num)\n",
        "odd=[]\n",
        "for num in range (1,11):\n",
        " if num%2==0:\n",
        "  continue\n",
        " else:\n",
        "  odd.append(num)\n",
        "print(\"list of odd:\",odd)\n",
        "final=[]\n",
        "for num in odd:\n",
        "  final.append(num*5)\n",
        "print(\"final list:\",final)\n"
      ]
    },
    {
      "cell_type": "markdown",
      "source": [
        "2.Shallow vs Deep Copy"
      ],
      "metadata": {
        "id": "D3qbxESh8hlU"
      }
    },
    {
      "cell_type": "code",
      "source": [
        "import copy\n",
        "list1=[[1,2],[3,4]]\n",
        "shallow=copy.copy(list1)\n",
        "deep=copy.deepcopy(list1)\n",
        "print(\"shallow copy:\",shallow)\n",
        "print(\"deep copy:\",deep)\n",
        "shallow[0][0]=100\n",
        "deep[0][0]=999\n",
        "print(\"new shallow copy:\",shallow)\n",
        "print(\"new deep copy:\",deep)"
      ],
      "metadata": {
        "colab": {
          "base_uri": "https://localhost:8080/"
        },
        "id": "ayIX8mor9uzk",
        "outputId": "e36bbcf9-4f60-492c-81ce-2a8f3a2372bf"
      },
      "execution_count": 41,
      "outputs": [
        {
          "output_type": "stream",
          "name": "stdout",
          "text": [
            "shallow copy: [[1, 2], [3, 4]]\n",
            "deep copy: [[1, 2], [3, 4]]\n",
            "new shallow copy: [[100, 2], [3, 4]]\n",
            "new deep copy: [[999, 2], [3, 4]]\n"
          ]
        }
      ]
    },
    {
      "cell_type": "markdown",
      "source": [
        "3.Dictionary with Nested Data"
      ],
      "metadata": {
        "id": "NEjnnNqE8AO0"
      }
    },
    {
      "cell_type": "code",
      "source": [
        "\n",
        "student={\n",
        "    \"name\":\"Alice\",\n",
        "    \"grade\":{\n",
        "        \"math\":85,\n",
        "        \"science\" : 92\n",
        "\n",
        "    },\n",
        "    \"passed\":\"true\"\n",
        "\n",
        "    }\n",
        "student[\"grade\"][\"math\"]=95\n",
        "student[\"grade\"][\"english\"]=88\n",
        "avg=(student[\"grade\"][\"math\"]+student[\"grade\"][\"english\"]+student[\"grade\"][\"science\"])/3\n",
        "print(\"Average Grade:\",avg)\n",
        "del student[\"passed\"]\n",
        "print(student)"
      ],
      "metadata": {
        "colab": {
          "base_uri": "https://localhost:8080/"
        },
        "id": "taKK4kBa4Jx7",
        "outputId": "589df93a-b769-44ac-fec1-d6f106f56eb6"
      },
      "execution_count": 48,
      "outputs": [
        {
          "output_type": "stream",
          "name": "stdout",
          "text": [
            "Average Grade: 91.66666666666667\n",
            "{'name': 'Alice', 'grade': {'math': 95, 'science': 92, 'english': 88}}\n"
          ]
        }
      ]
    },
    {
      "cell_type": "markdown",
      "source": [
        "4.NumPy Array Operations"
      ],
      "metadata": {
        "id": "zaF4LgEu-k0V"
      }
    },
    {
      "cell_type": "code",
      "source": [
        "import numpy as np\n",
        "array=np.arange(1,13)\n",
        "shape=array.reshape(3,4)\n",
        "multiarray=shape*2\n",
        "print(multiarray)\n",
        "second_col=multiarray[:,1]\n",
        "print(\"second column:\",second_col)\n",
        "row=multiarray.sum(axis=1)\n",
        "print(\"Row sum:\",row)"
      ],
      "metadata": {
        "colab": {
          "base_uri": "https://localhost:8080/"
        },
        "id": "25Ue5BRF-kMt",
        "outputId": "feb648f3-3a83-45dd-ad20-86cd2b2eb1ba"
      },
      "execution_count": 47,
      "outputs": [
        {
          "output_type": "stream",
          "name": "stdout",
          "text": [
            "[[ 2  4  6  8]\n",
            " [10 12 14 16]\n",
            " [18 20 22 24]]\n",
            "second column: [ 4 12 20]\n",
            "Row sum: [20 52 84]\n"
          ]
        }
      ]
    }
  ]
}