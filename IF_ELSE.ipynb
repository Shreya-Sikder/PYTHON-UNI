{
  "nbformat": 4,
  "nbformat_minor": 0,
  "metadata": {
    "colab": {
      "provenance": [],
      "authorship_tag": "ABX9TyP7TjZmd9IsW2WkVirAjUHt",
      "include_colab_link": true
    },
    "kernelspec": {
      "name": "python3",
      "display_name": "Python 3"
    },
    "language_info": {
      "name": "python"
    }
  },
  "cells": [
    {
      "cell_type": "markdown",
      "metadata": {
        "id": "view-in-github",
        "colab_type": "text"
      },
      "source": [
        "<a href=\"https://colab.research.google.com/github/Shreya-Sikder/PYTHON-UNI/blob/main/IF_ELSE.ipynb\" target=\"_parent\"><img src=\"https://colab.research.google.com/assets/colab-badge.svg\" alt=\"Open In Colab\"/></a>"
      ]
    },
    {
      "cell_type": "markdown",
      "source": [
        "Conditional Statement"
      ],
      "metadata": {
        "id": "8seOq9tTbUNy"
      }
    },
    {
      "cell_type": "code",
      "source": [
        "x=int(input(\"Enter your value1:\"))\n",
        "y=int(input(\"Enter your value2:\"))\n",
        "if x<y:\n",
        "  print(\"hello\")\n",
        "else:\n",
        "  print(\"goodbye\")"
      ],
      "metadata": {
        "colab": {
          "base_uri": "https://localhost:8080/"
        },
        "id": "w-DnF985bWOR",
        "outputId": "5f1bf4e3-f197-4bc4-a787-1ad5cc85766a"
      },
      "execution_count": null,
      "outputs": [
        {
          "output_type": "stream",
          "name": "stdout",
          "text": [
            "Enter your value1:34\n",
            "Enter your value2:23\n",
            "goodbye\n"
          ]
        }
      ]
    },
    {
      "cell_type": "code",
      "source": [
        "a,b=20,5\n",
        "if a>b:\n",
        "  print(\"A is the bigger one\")\n",
        "  if a<10:\n",
        "    print(\"A has a small value\")\n",
        "  else:\n",
        "    print(\"A is  greater than 10\")\n",
        "else:\n",
        "  print(\"B for boss\")"
      ],
      "metadata": {
        "id": "wb6cqhiLbkjd",
        "outputId": "f951127f-e6a4-4a74-9e1c-2c60b331da7c",
        "colab": {
          "base_uri": "https://localhost:8080/"
        }
      },
      "execution_count": null,
      "outputs": [
        {
          "output_type": "stream",
          "name": "stdout",
          "text": [
            "A is the bigger one\n",
            "A is  greater than 10\n"
          ]
        }
      ]
    }
  ]
}