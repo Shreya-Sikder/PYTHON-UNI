{
  "nbformat": 4,
  "nbformat_minor": 0,
  "metadata": {
    "colab": {
      "provenance": [],
      "authorship_tag": "ABX9TyM0hJ0fBto5oY3WgInFge+v",
      "include_colab_link": true
    },
    "kernelspec": {
      "name": "python3",
      "display_name": "Python 3"
    },
    "language_info": {
      "name": "python"
    }
  },
  "cells": [
    {
      "cell_type": "markdown",
      "metadata": {
        "id": "view-in-github",
        "colab_type": "text"
      },
      "source": [
        "<a href=\"https://colab.research.google.com/github/Shreya-Sikder/PYTHON-UNI/blob/main/a_search_euclidean.ipynb\" target=\"_parent\"><img src=\"https://colab.research.google.com/assets/colab-badge.svg\" alt=\"Open In Colab\"/></a>"
      ]
    },
    {
      "cell_type": "markdown",
      "source": [
        "A*Search(Euclidean)"
      ],
      "metadata": {
        "id": "2juJvA4Oq9Xg"
      }
    },
    {
      "cell_type": "code",
      "execution_count": null,
      "metadata": {
        "colab": {
          "base_uri": "https://localhost:8080/"
        },
        "id": "99dYEmxnnPjq",
        "outputId": "6b5279e0-4931-480e-b80d-7d55c51558e7"
      },
      "outputs": [
        {
          "output_type": "stream",
          "name": "stdout",
          "text": [
            "4\n",
            "A 0 0\n",
            "B 2 0\n",
            "C 2 2\n",
            "D 0 2\n",
            "4\n",
            "A B 1\n",
            "B C 1\n",
            "C D 1\n",
            "A D 3\n",
            "A \n",
            "C\n",
            "Solution path: A → B → C\n",
            "Solution cost: 2\n"
          ]
        }
      ],
      "source": [
        "import math\n",
        "import heapq\n",
        "\n",
        "def heuristic(a, b):\n",
        "    return math.sqrt((a[0]-b[0])**2 + (a[1]-b[1])**2)\n",
        "\n",
        "def a_search(nodes, edges, start, goal):\n",
        "    open_set = [(0, start, [start], 0)]  # (f, node, path, g)\n",
        "    visited = set()\n",
        "\n",
        "    while open_set:\n",
        "        f, current, path, g = heapq.heappop(open_set)\n",
        "        if current in visited:\n",
        "            continue\n",
        "        visited.add(current)\n",
        "\n",
        "        if current == goal:\n",
        "            return path, g\n",
        "\n",
        "        for child, cost in edges.get(current, []):\n",
        "            if child not in visited:\n",
        "                g_new = g + cost\n",
        "                f_new = g_new + heuristic(nodes[child], nodes[goal])\n",
        "                heapq.heappush(open_set, (f_new, child, path + [child], g_new))\n",
        "\n",
        "    return None, float(\"inf\")\n",
        "\n",
        "def Input():\n",
        "    n = int(input().strip())\n",
        "    nodes = {}\n",
        "    for _ in range(n):\n",
        "        line = input().strip().split()\n",
        "        name, x, y = line[0], int(line[1]), int(line[2])\n",
        "        nodes[name] = (x, y)\n",
        "\n",
        "    e = int(input().strip())\n",
        "    edges = {}\n",
        "    for _ in range(e):\n",
        "        u, v, c = input().strip().split()\n",
        "        c = int(c)\n",
        "        edges.setdefault(u, []).append((v, c))\n",
        "\n",
        "    start = input().strip()\n",
        "    goal = input().strip()\n",
        "    return nodes, edges, start, goal\n",
        "\n",
        "if __name__ == \"__main__\":\n",
        "    nodes, edges, start, goal = Input()\n",
        "    path, cost = a_search(nodes, edges, start, goal)\n",
        "    if path:\n",
        "        print(\"Solution path:\", \" → \".join(path))\n",
        "        print(\"Solution cost:\", cost)\n",
        "    else:\n",
        "        print(\"No path found\")\n"
      ]
    }
  ]
}